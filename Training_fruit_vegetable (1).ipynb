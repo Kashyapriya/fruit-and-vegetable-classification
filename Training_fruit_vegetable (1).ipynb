{
  "cells": [
    {
      "cell_type": "markdown",
      "metadata": {
        "id": "7DOtiekd40Xx"
      },
      "source": [
        "# Importing dataset"
      ]
    },
    {
      "cell_type": "code",
      "execution_count": null,
      "metadata": {
        "id": "Uy5HopWz1JfV"
      },
      "outputs": [],
      "source": [
        "from google.colab import drive\n",
        "drive.mount('/content/drive')"
      ]
    },
    {
      "cell_type": "markdown",
      "metadata": {
        "id": "8iYaRWCp4bSb"
      },
      "source": [
        "#Importing Libraries"
      ]
    },
    {
      "cell_type": "code",
      "execution_count": null,
      "metadata": {
        "id": "zrq5lncE4RWw"
      },
      "outputs": [],
      "source": [
        "import numpy as np\n",
        "import tensorflow as tf\n",
        "import matplotlib.pyplot as plt"
      ]
    },
    {
      "cell_type": "markdown",
      "metadata": {
        "id": "v3L1euGp5Me3"
      },
      "source": [
        "#data preprocessing"
      ]
    },
    {
      "cell_type": "markdown",
      "metadata": {
        "id": "yUTi2SzM5e0Z"
      },
      "source": [
        "#training data preprocessing\n"
      ]
    },
    {
      "cell_type": "code",
      "execution_count": null,
      "metadata": {
        "id": "etHbvNv25JEc"
      },
      "outputs": [],
      "source": [
        "training_set = tf.keras.utils.image_dataset_from_directory(\n",
        "    '/content/drive/MyDrive/Dataset/train',\n",
        "    labels = 'inferred',\n",
        "    label_mode = 'categorical',\n",
        "    class_names=None,\n",
        "    color_mode='rgb',\n",
        "    batch_size=32,\n",
        "    image_size=(64,64),\n",
        "    shuffle=True,\n",
        "    seed = None,\n",
        "    validation_split=None,\n",
        "    subset=None,\n",
        "    interpolation='bilinear',\n",
        "    follow_links = False,\n",
        "    crop_to_aspect_ratio=False\n",
        ")\n"
      ]
    },
    {
      "cell_type": "markdown",
      "metadata": {
        "id": "8WM4gpf39Ekv"
      },
      "source": [
        "#validation image preprocessing\n"
      ]
    },
    {
      "cell_type": "code",
      "execution_count": null,
      "metadata": {
        "id": "5hpcZmBr9Duc"
      },
      "outputs": [],
      "source": [
        "validation_set = tf.keras.utils.image_dataset_from_directory(\n",
        "    '/content/drive/MyDrive/Dataset/validation',\n",
        "    labels=\"inferred\",\n",
        "    label_mode=\"categorical\",\n",
        "    class_names=None,\n",
        "    color_mode=\"rgb\",\n",
        "    batch_size=32,\n",
        "    image_size=(64,64),\n",
        "    shuffle=True,\n",
        "    seed=None,\n",
        "    validation_split=None,\n",
        "    subset=None,\n",
        "    interpolation=\"bilinear\",\n",
        "    follow_links=False,\n",
        "    crop_to_aspect_ratio=False\n",
        ")"
      ]
    },
    {
      "cell_type": "markdown",
      "metadata": {
        "id": "H8p_8WQy-Cl6"
      },
      "source": [
        "#building model"
      ]
    },
    {
      "cell_type": "code",
      "execution_count": null,
      "metadata": {
        "id": "noMfZmB6-HLy"
      },
      "outputs": [],
      "source": [
        "cnn = tf.keras.models.Sequential()"
      ]
    },
    {
      "cell_type": "markdown",
      "metadata": {
        "id": "a7M7bGMG-j0n"
      },
      "source": [
        "#building convolution layer"
      ]
    },
    {
      "cell_type": "code",
      "execution_count": null,
      "metadata": {
        "id": "PS_JnErE-THi"
      },
      "outputs": [],
      "source": [
        "cnn.add(tf.keras.layers.Conv2D(filters=64,kernel_size=3,activation='relu',input_shape=[64,64,3]))\n",
        "cnn.add(tf.keras.layers.MaxPool2D(pool_size=2,strides=2))"
      ]
    },
    {
      "cell_type": "code",
      "execution_count": null,
      "metadata": {
        "colab": {
          "background_save": true
        },
        "id": "JEg9mX6-AMfO"
      },
      "outputs": [],
      "source": [
        "cnn.add(tf.keras.layers.Conv2D(filters=64,kernel_size=3,activation='relu'))\n",
        "cnn.add(tf.keras.layers.MaxPool2D(pool_size=2,strides=2))"
      ]
    },
    {
      "cell_type": "code",
      "execution_count": null,
      "metadata": {
        "id": "8-9tq6oDAY6k"
      },
      "outputs": [],
      "source": [
        "cnn.add(tf.keras.layers.Dropout(0.5))"
      ]
    },
    {
      "cell_type": "code",
      "execution_count": null,
      "metadata": {
        "id": "cN_ocmtnAogE"
      },
      "outputs": [],
      "source": [
        "cnn.add(tf.keras.layers.Flatten())"
      ]
    },
    {
      "cell_type": "code",
      "execution_count": null,
      "metadata": {
        "id": "Qu4mI_57A2Rc"
      },
      "outputs": [],
      "source": [
        "cnn.add(tf.keras.layers.Dense(units=128,activation='relu'))"
      ]
    },
    {
      "cell_type": "code",
      "execution_count": null,
      "metadata": {
        "id": "4c_I-S7qBQSu"
      },
      "outputs": [],
      "source": [
        "cnn.add(tf.keras.layers.Dense(units=36,activation='softmax'))"
      ]
    },
    {
      "cell_type": "markdown",
      "metadata": {
        "id": "_ek6dLRZBtwd"
      },
      "source": [
        "#compiling and training phase"
      ]
    },
    {
      "cell_type": "code",
      "execution_count": null,
      "metadata": {
        "id": "FZDBzgZkB0MU"
      },
      "outputs": [],
      "source": [
        "cnn.compile(optimizer='rmsprop',loss='categorical_crossentropy',metrics=['accuracy'])"
      ]
    },
    {
      "cell_type": "code",
      "execution_count": null,
      "metadata": {
        "colab": {
          "base_uri": "https://localhost:8080/"
        },
        "id": "5aQfMIJECRnV",
        "outputId": "ee415cbb-49ad-4748-ab96-33d8c120fb78"
      },
      "outputs": [
        {
          "name": "stdout",
          "output_type": "stream",
          "text": [
            "Epoch 1/30\n",
            "98/98 [==============================] - 580s 5s/step - loss: 9.3424 - accuracy: 0.0371 - val_loss: 3.5366 - val_accuracy: 0.0655\n",
            "Epoch 2/30\n",
            "98/98 [==============================] - 130s 1s/step - loss: 3.8529 - accuracy: 0.0557 - val_loss: 3.4039 - val_accuracy: 0.1396\n",
            "Epoch 3/30\n",
            "98/98 [==============================] - 142s 1s/step - loss: 4.2835 - accuracy: 0.0768 - val_loss: 3.2029 - val_accuracy: 0.1538\n",
            "Epoch 4/30\n",
            "98/98 [==============================] - 134s 1s/step - loss: 4.1229 - accuracy: 0.1214 - val_loss: 2.8757 - val_accuracy: 0.2450\n",
            "Epoch 5/30\n",
            "98/98 [==============================] - 120s 1s/step - loss: 3.6112 - accuracy: 0.1540 - val_loss: 8.7913 - val_accuracy: 0.1197\n",
            "Epoch 6/30\n",
            "98/98 [==============================] - 120s 1s/step - loss: 3.4348 - accuracy: 0.2168 - val_loss: 2.5341 - val_accuracy: 0.4188\n",
            "Epoch 7/30\n",
            "98/98 [==============================] - 129s 1s/step - loss: 3.1694 - accuracy: 0.2683 - val_loss: 2.3075 - val_accuracy: 0.5100\n",
            "Epoch 8/30\n",
            "98/98 [==============================] - 132s 1s/step - loss: 3.1112 - accuracy: 0.3196 - val_loss: 2.0381 - val_accuracy: 0.5641\n",
            "Epoch 9/30\n",
            "98/98 [==============================] - 130s 1s/step - loss: 2.6514 - accuracy: 0.3746 - val_loss: 2.8543 - val_accuracy: 0.4416\n",
            "Epoch 10/30\n",
            "98/98 [==============================] - 131s 1s/step - loss: 2.6820 - accuracy: 0.4095 - val_loss: 2.5408 - val_accuracy: 0.5442\n",
            "Epoch 11/30\n",
            "98/98 [==============================] - 120s 1s/step - loss: 2.4687 - accuracy: 0.4534 - val_loss: 1.6508 - val_accuracy: 0.6638\n",
            "Epoch 12/30\n",
            "98/98 [==============================] - 126s 1s/step - loss: 2.2777 - accuracy: 0.5034 - val_loss: 14.8867 - val_accuracy: 0.2650\n",
            "Epoch 13/30\n",
            "98/98 [==============================] - 129s 1s/step - loss: 2.7045 - accuracy: 0.5549 - val_loss: 1.6643 - val_accuracy: 0.6809\n",
            "Epoch 14/30\n",
            "98/98 [==============================] - 129s 1s/step - loss: 1.9417 - accuracy: 0.5799 - val_loss: 1.7763 - val_accuracy: 0.6610\n",
            "Epoch 15/30\n",
            "98/98 [==============================] - 122s 1s/step - loss: 1.7194 - accuracy: 0.6087 - val_loss: 1.4174 - val_accuracy: 0.7407\n",
            "Epoch 16/30\n",
            "98/98 [==============================] - 129s 1s/step - loss: 1.6217 - accuracy: 0.6167 - val_loss: 1.2807 - val_accuracy: 0.8034\n",
            "Epoch 17/30\n",
            "98/98 [==============================] - 135s 1s/step - loss: 1.5388 - accuracy: 0.6455 - val_loss: 1.4201 - val_accuracy: 0.7607\n",
            "Epoch 18/30\n",
            "98/98 [==============================] - 128s 1s/step - loss: 1.5421 - accuracy: 0.6638 - val_loss: 1.1974 - val_accuracy: 0.8348\n",
            "Epoch 19/30\n",
            "98/98 [==============================] - 129s 1s/step - loss: 1.3567 - accuracy: 0.6993 - val_loss: 1.0724 - val_accuracy: 0.8177\n",
            "Epoch 20/30\n",
            "98/98 [==============================] - 129s 1s/step - loss: 1.2928 - accuracy: 0.7205 - val_loss: 1.2442 - val_accuracy: 0.8632\n",
            "Epoch 21/30\n",
            "98/98 [==============================] - 129s 1s/step - loss: 1.3491 - accuracy: 0.7320 - val_loss: 1.0955 - val_accuracy: 0.8604\n",
            "Epoch 22/30\n",
            "98/98 [==============================] - 118s 1s/step - loss: 1.4268 - accuracy: 0.7368 - val_loss: 1.1210 - val_accuracy: 0.8746\n",
            "Epoch 23/30\n",
            "98/98 [==============================] - 128s 1s/step - loss: 1.3767 - accuracy: 0.7608 - val_loss: 1.1183 - val_accuracy: 0.8661\n",
            "Epoch 24/30\n",
            "98/98 [==============================] - 122s 1s/step - loss: 1.0594 - accuracy: 0.7794 - val_loss: 1.7397 - val_accuracy: 0.8433\n",
            "Epoch 25/30\n",
            "98/98 [==============================] - 121s 1s/step - loss: 1.1905 - accuracy: 0.7759 - val_loss: 1.0063 - val_accuracy: 0.8917\n",
            "Epoch 26/30\n",
            "98/98 [==============================] - 136s 1s/step - loss: 1.2194 - accuracy: 0.7730 - val_loss: 1.0898 - val_accuracy: 0.8946\n",
            "Epoch 27/30\n",
            "98/98 [==============================] - 120s 1s/step - loss: 1.1172 - accuracy: 0.7874 - val_loss: 1.0888 - val_accuracy: 0.8917\n",
            "Epoch 28/30\n",
            "98/98 [==============================] - 121s 1s/step - loss: 1.0619 - accuracy: 0.8012 - val_loss: 1.4128 - val_accuracy: 0.8917\n",
            "Epoch 29/30\n",
            "98/98 [==============================] - 126s 1s/step - loss: 0.9878 - accuracy: 0.8095 - val_loss: 2.0143 - val_accuracy: 0.8120\n",
            "Epoch 30/30\n",
            "98/98 [==============================] - 127s 1s/step - loss: 1.0581 - accuracy: 0.8120 - val_loss: 1.2846 - val_accuracy: 0.9231\n"
          ]
        }
      ],
      "source": [
        "training_history = cnn.fit(x=training_set,validation_data=validation_set,epochs=30)"
      ]
    },
    {
      "cell_type": "markdown",
      "metadata": {
        "id": "p58Oz3igUcNz"
      },
      "source": [
        "#saving model"
      ]
    },
    {
      "cell_type": "code",
      "execution_count": null,
      "metadata": {
        "id": "-YG97FIjUepF"
      },
      "outputs": [],
      "source": [
        "cnn.save('trained_model.h5')"
      ]
    },
    {
      "cell_type": "code",
      "execution_count": null,
      "metadata": {
        "colab": {
          "base_uri": "https://localhost:8080/"
        },
        "id": "wFUCy45qVM26",
        "outputId": "eea5989a-143d-4d18-f798-ebab9a6350eb"
      },
      "outputs": [
        {
          "data": {
            "text/plain": [
              "{'loss': [9.342360496520996,\n",
              "  3.8528730869293213,\n",
              "  4.283517360687256,\n",
              "  4.122905731201172,\n",
              "  3.611191511154175,\n",
              "  3.434753894805908,\n",
              "  3.169408082962036,\n",
              "  3.1112499237060547,\n",
              "  2.651432752609253,\n",
              "  2.6820342540740967,\n",
              "  2.4687352180480957,\n",
              "  2.2777259349823,\n",
              "  2.7045300006866455,\n",
              "  1.9416807889938354,\n",
              "  1.7193517684936523,\n",
              "  1.6217256784439087,\n",
              "  1.5388059616088867,\n",
              "  1.5420751571655273,\n",
              "  1.3566721677780151,\n",
              "  1.2928344011306763,\n",
              "  1.3490873575210571,\n",
              "  1.4268206357955933,\n",
              "  1.3766539096832275,\n",
              "  1.0593746900558472,\n",
              "  1.1904525756835938,\n",
              "  1.2193876504898071,\n",
              "  1.1172199249267578,\n",
              "  1.061880111694336,\n",
              "  0.9878184795379639,\n",
              "  1.0580681562423706],\n",
              " 'accuracy': [0.0371437706053257,\n",
              "  0.0557156577706337,\n",
              "  0.07684918493032455,\n",
              "  0.12135767191648483,\n",
              "  0.1540185660123825,\n",
              "  0.2167787402868271,\n",
              "  0.26833173632621765,\n",
              "  0.3195645213127136,\n",
              "  0.3746397793292999,\n",
              "  0.40954211354255676,\n",
              "  0.45341017842292786,\n",
              "  0.5033621788024902,\n",
              "  0.5549151301383972,\n",
              "  0.5798911452293396,\n",
              "  0.6087095737457275,\n",
              "  0.6167147159576416,\n",
              "  0.6455331444740295,\n",
              "  0.6637848019599915,\n",
              "  0.6993275880813599,\n",
              "  0.7204610705375671,\n",
              "  0.7319884896278381,\n",
              "  0.7367915511131287,\n",
              "  0.7608069181442261,\n",
              "  0.7793788313865662,\n",
              "  0.7758565545082092,\n",
              "  0.7729747295379639,\n",
              "  0.7873839139938354,\n",
              "  0.801152765750885,\n",
              "  0.8094780445098877,\n",
              "  0.8120397329330444],\n",
              " 'val_loss': [3.5365803241729736,\n",
              "  3.4039411544799805,\n",
              "  3.202889919281006,\n",
              "  2.8756966590881348,\n",
              "  8.791251182556152,\n",
              "  2.534144163131714,\n",
              "  2.307460069656372,\n",
              "  2.0381064414978027,\n",
              "  2.854271650314331,\n",
              "  2.5407533645629883,\n",
              "  1.6507573127746582,\n",
              "  14.886652946472168,\n",
              "  1.6643013954162598,\n",
              "  1.7762917280197144,\n",
              "  1.4174249172210693,\n",
              "  1.2806932926177979,\n",
              "  1.4200836420059204,\n",
              "  1.1974087953567505,\n",
              "  1.0723605155944824,\n",
              "  1.2441684007644653,\n",
              "  1.0955089330673218,\n",
              "  1.1210026741027832,\n",
              "  1.1182760000228882,\n",
              "  1.739716649055481,\n",
              "  1.006255030632019,\n",
              "  1.0897983312606812,\n",
              "  1.088801383972168,\n",
              "  1.4128261804580688,\n",
              "  2.0142693519592285,\n",
              "  1.2845662832260132],\n",
              " 'val_accuracy': [0.0655270665884018,\n",
              "  0.13960114121437073,\n",
              "  0.1538461595773697,\n",
              "  0.2450142502784729,\n",
              "  0.11965811997652054,\n",
              "  0.4188034236431122,\n",
              "  0.5099714994430542,\n",
              "  0.5641025900840759,\n",
              "  0.4415954351425171,\n",
              "  0.5441595315933228,\n",
              "  0.6638176441192627,\n",
              "  0.2649572789669037,\n",
              "  0.680911660194397,\n",
              "  0.6609686613082886,\n",
              "  0.7407407164573669,\n",
              "  0.8034188151359558,\n",
              "  0.7606837749481201,\n",
              "  0.8347578644752502,\n",
              "  0.8176637887954712,\n",
              "  0.8632478713989258,\n",
              "  0.8603988885879517,\n",
              "  0.874643862247467,\n",
              "  0.8660968542098999,\n",
              "  0.8433048725128174,\n",
              "  0.8917378783226013,\n",
              "  0.8945869207382202,\n",
              "  0.8917378783226013,\n",
              "  0.8917378783226013,\n",
              "  0.811965823173523,\n",
              "  0.9230769276618958]}"
            ]
          },
          "execution_count": 17,
          "metadata": {},
          "output_type": "execute_result"
        }
      ],
      "source": [
        "training_history.history"
      ]
    },
    {
      "cell_type": "code",
      "execution_count": null,
      "metadata": {
        "id": "mOhxOyk9UqNE"
      },
      "outputs": [],
      "source": [
        "#recording history\n",
        "import json\n",
        "with open('training_hist.json','w') as f:\n",
        "  json.dump(training_history.history,f)"
      ]
    },
    {
      "cell_type": "code",
      "execution_count": null,
      "metadata": {
        "colab": {
          "base_uri": "https://localhost:8080/"
        },
        "id": "yOLXMqbfVjLU",
        "outputId": "fdc3d0cb-f6b4-4e2b-df7f-6dd70e536e9b"
      },
      "outputs": [
        {
          "name": "stdout",
          "output_type": "stream",
          "text": [
            "dict_keys(['loss', 'accuracy', 'val_loss', 'val_accuracy'])\n"
          ]
        }
      ],
      "source": [
        "print(training_history.history.keys())"
      ]
    },
    {
      "cell_type": "markdown",
      "metadata": {
        "id": "-CumxO7SVw0P"
      },
      "source": [
        "#calculating accuracy of model achieved on validation set"
      ]
    },
    {
      "cell_type": "code",
      "execution_count": null,
      "metadata": {
        "colab": {
          "base_uri": "https://localhost:8080/"
        },
        "id": "dxufgKfCWNb5",
        "outputId": "d3e52c7f-5e17-4379-bda8-e28ea4cf07a2"
      },
      "outputs": [
        {
          "name": "stdout",
          "output_type": "stream",
          "text": [
            "Validation set accuracy: 0.9230769276618958 %\n"
          ]
        }
      ],
      "source": [
        "print(\"Validation set accuracy: {} %\".format(training_history.history['val_accuracy'][-1]))"
      ]
    },
    {
      "cell_type": "markdown",
      "metadata": {
        "id": "pRN3wfkZXLws"
      },
      "source": [
        "#Accuracy visualisation"
      ]
    },
    {
      "cell_type": "markdown",
      "metadata": {
        "id": "hW9TzCnJXQZO"
      },
      "source": [
        "#Training visualisation"
      ]
    },
    {
      "cell_type": "code",
      "execution_count": null,
      "metadata": {
        "id": "MfCKOgY3YSMq"
      },
      "outputs": [],
      "source": [
        "#training_history.history['accuracy']"
      ]
    },
    {
      "cell_type": "code",
      "execution_count": null,
      "metadata": {
        "colab": {
          "base_uri": "https://localhost:8080/",
          "height": 472
        },
        "id": "zpArg8NLWYVN",
        "outputId": "50b526ef-ac37-4a3a-b5b0-2cbbecb9f643"
      },
      "outputs": [
        {
          "data": {
            "image/png": "[encoded data removed]",
            "text/plain": [
              "<Figure size 640x480 with 1 Axes>"
            ]
          },
          "metadata": {},
          "output_type": "display_data"
        }
      ],
      "source": [
        "epochs = [i for i in range(1,31)]\n",
        "plt.plot(epochs,training_history.history['accuracy'],color='red')\n",
        "plt.xlabel('Epochs')\n",
        "plt.ylabel('Training Accuracy')\n",
        "plt.title('Visualisation of training accuracy result')\n",
        "plt.show()"
      ]
    },
    {
      "cell_type": "markdown",
      "metadata": {
        "id": "tvY2K1hIY5M3"
      },
      "source": [
        "#Validation Accuracy"
      ]
    },
    {
      "cell_type": "code",
      "execution_count": null,
      "metadata": {
        "colab": {
          "base_uri": "https://localhost:8080/",
          "height": 472
        },
        "id": "aeEbO25EY9RY",
        "outputId": "441c9caf-f5e3-436d-fa4d-2eff351bc7d4"
      },
      "outputs": [
        {
          "data": {
            "image/png": "[encoded data removed]",
            "text/plain": [
              "<Figure size 640x480 with 1 Axes>"
            ]
          },
          "metadata": {},
          "output_type": "display_data"
        }
      ],
      "source": [
        "plt.plot(epochs,training_history.history['val_accuracy'],color='blue')\n",
        "plt.xlabel('Epochs')\n",
        "plt.ylabel('validation Accuracy')\n",
        "plt.title('Visualisation of validation accuracy')\n",
        "plt.show()"
      ]
    },
    {
      "cell_type": "code",
      "execution_count": null,
      "metadata": {
        "colab": {
          "base_uri": "https://localhost:8080/"
        },
        "id": "ohU4hVv5XlNX",
        "outputId": "8703ba39-f395-42b0-bc3a-3bde2ea4f485"
      },
      "outputs": [
        {
          "name": "stdout",
          "output_type": "stream",
          "text": [
            "Drive already mounted at /content/drive; to attempt to forcibly remount, call drive.mount(\"/content/drive\", force_remount=True).\n"
          ]
        }
      ],
      "source": [
        "from google.colab import drive\n",
        "drive.mount('/content/drive')\n"
      ]
    }
  ],
  "metadata": {
    "colab": {
      "provenance": []
    },
    "kernelspec": {
      "display_name": "Python 3",
      "name": "python3"
    },
    "language_info": {
      "name": "python"
    }
  },
  "nbformat": 4,
  "nbformat_minor": 0
}